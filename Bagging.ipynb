{
  "nbformat": 4,
  "nbformat_minor": 0,
  "metadata": {
    "colab": {
      "provenance": [],
      "mount_file_id": "1eUzwdBTdWPcScXdZeutRTM6PJ36ASh7y",
      "authorship_tag": "ABX9TyNBgm2y3X29TVF3vDcINOB2",
      "include_colab_link": true
    },
    "kernelspec": {
      "name": "python3",
      "display_name": "Python 3"
    },
    "language_info": {
      "name": "python"
    }
  },
  "cells": [
    {
      "cell_type": "markdown",
      "metadata": {
        "id": "view-in-github",
        "colab_type": "text"
      },
      "source": [
        "<a href=\"https://colab.research.google.com/github/kevin0409/AI_schoolwork/blob/main/Bagging.ipynb\" target=\"_parent\"><img src=\"https://colab.research.google.com/assets/colab-badge.svg\" alt=\"Open In Colab\"/></a>"
      ]
    },
    {
      "cell_type": "code",
      "source": [
        "import os\n",
        "import numpy as np\n",
        "import pandas as pd\n",
        "\n",
        "from sklearn.ensemble import BaggingRegressor\n",
        "from sklearn.tree import DecisionTreeRegressor\n",
        "from sklearn.linear_model import LinearRegression\n",
        "\n",
        "from sklearn.model_selection import train_test_split\n",
        "from sklearn.metrics import mean_squared_error, r2_score\n",
        "\n",
        "import matplotlib.pyplot as plt\n",
        "import seaborn as sns"
      ],
      "metadata": {
        "id": "yv1Hl9_83_no"
      },
      "execution_count": 9,
      "outputs": []
    },
    {
      "cell_type": "code",
      "execution_count": 10,
      "metadata": {
        "colab": {
          "base_uri": "https://localhost:8080/"
        },
        "id": "0A6kcMwXv8Jn",
        "outputId": "1828e235-29e1-4250-8237-8167d4682c54"
      },
      "outputs": [
        {
          "output_type": "stream",
          "name": "stdout",
          "text": [
            "Drive already mounted at /content/drive; to attempt to forcibly remount, call drive.mount(\"/content/drive\", force_remount=True).\n"
          ]
        }
      ],
      "source": [
        "from google.colab import drive\n",
        "drive.mount('/content/drive')"
      ]
    },
    {
      "cell_type": "code",
      "source": [
        "data_path = '/content/drive/MyDrive/Colab Notebooks/house regression.csv'"
      ],
      "metadata": {
        "id": "k3-c-BcJ3Vdj"
      },
      "execution_count": 11,
      "outputs": []
    },
    {
      "cell_type": "code",
      "source": [
        "data = pd.read_csv(data_path)\n",
        "data.head()"
      ],
      "metadata": {
        "colab": {
          "base_uri": "https://localhost:8080/",
          "height": 268
        },
        "id": "JuzAEbQu3AR4",
        "outputId": "0efb0a96-c550-4f59-85b5-41ecc97b0126"
      },
      "execution_count": 12,
      "outputs": [
        {
          "output_type": "execute_result",
          "data": {
            "text/plain": [
              "       lat     long  bedrooms  bathrooms  floors  waterfront  grade  \\\n",
              "0  47.6747 -122.303         4       2.25     2.0           1      8   \n",
              "1  47.6914 -122.308         2       1.75     1.0           1      6   \n",
              "2  47.5951 -122.144         5       2.00     1.5           1      7   \n",
              "3  47.3273 -122.370         3       2.00     1.0           1      7   \n",
              "4  47.3584 -122.163         5       3.00     2.0           1      9   \n",
              "\n",
              "   condition  sqft_living  sqft_lot  sqft_above  sqft_basement  yr_built  \\\n",
              "0          5         3750      5000        2440           1310        94   \n",
              "1          3         1390      6670         720            670        77   \n",
              "2          3         1870      7344        1870              0        58   \n",
              "3          4         1410     44866        1410              0        33   \n",
              "4          3         3223      6371        3223              0         4   \n",
              "\n",
              "   yr_renovated  year_2014  quarter_0  quarter_1  quarter_2    price  \n",
              "0             0          0          0          1          0  1310000  \n",
              "1             0          0          0          1          0   445500  \n",
              "2             0          0          0          1          0   450000  \n",
              "3             0          0          0          1          0   335000  \n",
              "4             0          0          0          1          0   479349  "
            ],
            "text/html": [
              "\n",
              "  <div id=\"df-b3679ed5-fb5f-4157-8f91-79d43d53b24d\">\n",
              "    <div class=\"colab-df-container\">\n",
              "      <div>\n",
              "<style scoped>\n",
              "    .dataframe tbody tr th:only-of-type {\n",
              "        vertical-align: middle;\n",
              "    }\n",
              "\n",
              "    .dataframe tbody tr th {\n",
              "        vertical-align: top;\n",
              "    }\n",
              "\n",
              "    .dataframe thead th {\n",
              "        text-align: right;\n",
              "    }\n",
              "</style>\n",
              "<table border=\"1\" class=\"dataframe\">\n",
              "  <thead>\n",
              "    <tr style=\"text-align: right;\">\n",
              "      <th></th>\n",
              "      <th>lat</th>\n",
              "      <th>long</th>\n",
              "      <th>bedrooms</th>\n",
              "      <th>bathrooms</th>\n",
              "      <th>floors</th>\n",
              "      <th>waterfront</th>\n",
              "      <th>grade</th>\n",
              "      <th>condition</th>\n",
              "      <th>sqft_living</th>\n",
              "      <th>sqft_lot</th>\n",
              "      <th>sqft_above</th>\n",
              "      <th>sqft_basement</th>\n",
              "      <th>yr_built</th>\n",
              "      <th>yr_renovated</th>\n",
              "      <th>year_2014</th>\n",
              "      <th>quarter_0</th>\n",
              "      <th>quarter_1</th>\n",
              "      <th>quarter_2</th>\n",
              "      <th>price</th>\n",
              "    </tr>\n",
              "  </thead>\n",
              "  <tbody>\n",
              "    <tr>\n",
              "      <th>0</th>\n",
              "      <td>47.6747</td>\n",
              "      <td>-122.303</td>\n",
              "      <td>4</td>\n",
              "      <td>2.25</td>\n",
              "      <td>2.0</td>\n",
              "      <td>1</td>\n",
              "      <td>8</td>\n",
              "      <td>5</td>\n",
              "      <td>3750</td>\n",
              "      <td>5000</td>\n",
              "      <td>2440</td>\n",
              "      <td>1310</td>\n",
              "      <td>94</td>\n",
              "      <td>0</td>\n",
              "      <td>0</td>\n",
              "      <td>0</td>\n",
              "      <td>1</td>\n",
              "      <td>0</td>\n",
              "      <td>1310000</td>\n",
              "    </tr>\n",
              "    <tr>\n",
              "      <th>1</th>\n",
              "      <td>47.6914</td>\n",
              "      <td>-122.308</td>\n",
              "      <td>2</td>\n",
              "      <td>1.75</td>\n",
              "      <td>1.0</td>\n",
              "      <td>1</td>\n",
              "      <td>6</td>\n",
              "      <td>3</td>\n",
              "      <td>1390</td>\n",
              "      <td>6670</td>\n",
              "      <td>720</td>\n",
              "      <td>670</td>\n",
              "      <td>77</td>\n",
              "      <td>0</td>\n",
              "      <td>0</td>\n",
              "      <td>0</td>\n",
              "      <td>1</td>\n",
              "      <td>0</td>\n",
              "      <td>445500</td>\n",
              "    </tr>\n",
              "    <tr>\n",
              "      <th>2</th>\n",
              "      <td>47.5951</td>\n",
              "      <td>-122.144</td>\n",
              "      <td>5</td>\n",
              "      <td>2.00</td>\n",
              "      <td>1.5</td>\n",
              "      <td>1</td>\n",
              "      <td>7</td>\n",
              "      <td>3</td>\n",
              "      <td>1870</td>\n",
              "      <td>7344</td>\n",
              "      <td>1870</td>\n",
              "      <td>0</td>\n",
              "      <td>58</td>\n",
              "      <td>0</td>\n",
              "      <td>0</td>\n",
              "      <td>0</td>\n",
              "      <td>1</td>\n",
              "      <td>0</td>\n",
              "      <td>450000</td>\n",
              "    </tr>\n",
              "    <tr>\n",
              "      <th>3</th>\n",
              "      <td>47.3273</td>\n",
              "      <td>-122.370</td>\n",
              "      <td>3</td>\n",
              "      <td>2.00</td>\n",
              "      <td>1.0</td>\n",
              "      <td>1</td>\n",
              "      <td>7</td>\n",
              "      <td>4</td>\n",
              "      <td>1410</td>\n",
              "      <td>44866</td>\n",
              "      <td>1410</td>\n",
              "      <td>0</td>\n",
              "      <td>33</td>\n",
              "      <td>0</td>\n",
              "      <td>0</td>\n",
              "      <td>0</td>\n",
              "      <td>1</td>\n",
              "      <td>0</td>\n",
              "      <td>335000</td>\n",
              "    </tr>\n",
              "    <tr>\n",
              "      <th>4</th>\n",
              "      <td>47.3584</td>\n",
              "      <td>-122.163</td>\n",
              "      <td>5</td>\n",
              "      <td>3.00</td>\n",
              "      <td>2.0</td>\n",
              "      <td>1</td>\n",
              "      <td>9</td>\n",
              "      <td>3</td>\n",
              "      <td>3223</td>\n",
              "      <td>6371</td>\n",
              "      <td>3223</td>\n",
              "      <td>0</td>\n",
              "      <td>4</td>\n",
              "      <td>0</td>\n",
              "      <td>0</td>\n",
              "      <td>0</td>\n",
              "      <td>1</td>\n",
              "      <td>0</td>\n",
              "      <td>479349</td>\n",
              "    </tr>\n",
              "  </tbody>\n",
              "</table>\n",
              "</div>\n",
              "      <button class=\"colab-df-convert\" onclick=\"convertToInteractive('df-b3679ed5-fb5f-4157-8f91-79d43d53b24d')\"\n",
              "              title=\"Convert this dataframe to an interactive table.\"\n",
              "              style=\"display:none;\">\n",
              "        \n",
              "  <svg xmlns=\"http://www.w3.org/2000/svg\" height=\"24px\"viewBox=\"0 0 24 24\"\n",
              "       width=\"24px\">\n",
              "    <path d=\"M0 0h24v24H0V0z\" fill=\"none\"/>\n",
              "    <path d=\"M18.56 5.44l.94 2.06.94-2.06 2.06-.94-2.06-.94-.94-2.06-.94 2.06-2.06.94zm-11 1L8.5 8.5l.94-2.06 2.06-.94-2.06-.94L8.5 2.5l-.94 2.06-2.06.94zm10 10l.94 2.06.94-2.06 2.06-.94-2.06-.94-.94-2.06-.94 2.06-2.06.94z\"/><path d=\"M17.41 7.96l-1.37-1.37c-.4-.4-.92-.59-1.43-.59-.52 0-1.04.2-1.43.59L10.3 9.45l-7.72 7.72c-.78.78-.78 2.05 0 2.83L4 21.41c.39.39.9.59 1.41.59.51 0 1.02-.2 1.41-.59l7.78-7.78 2.81-2.81c.8-.78.8-2.07 0-2.86zM5.41 20L4 18.59l7.72-7.72 1.47 1.35L5.41 20z\"/>\n",
              "  </svg>\n",
              "      </button>\n",
              "      \n",
              "  <style>\n",
              "    .colab-df-container {\n",
              "      display:flex;\n",
              "      flex-wrap:wrap;\n",
              "      gap: 12px;\n",
              "    }\n",
              "\n",
              "    .colab-df-convert {\n",
              "      background-color: #E8F0FE;\n",
              "      border: none;\n",
              "      border-radius: 50%;\n",
              "      cursor: pointer;\n",
              "      display: none;\n",
              "      fill: #1967D2;\n",
              "      height: 32px;\n",
              "      padding: 0 0 0 0;\n",
              "      width: 32px;\n",
              "    }\n",
              "\n",
              "    .colab-df-convert:hover {\n",
              "      background-color: #E2EBFA;\n",
              "      box-shadow: 0px 1px 2px rgba(60, 64, 67, 0.3), 0px 1px 3px 1px rgba(60, 64, 67, 0.15);\n",
              "      fill: #174EA6;\n",
              "    }\n",
              "\n",
              "    [theme=dark] .colab-df-convert {\n",
              "      background-color: #3B4455;\n",
              "      fill: #D2E3FC;\n",
              "    }\n",
              "\n",
              "    [theme=dark] .colab-df-convert:hover {\n",
              "      background-color: #434B5C;\n",
              "      box-shadow: 0px 1px 3px 1px rgba(0, 0, 0, 0.15);\n",
              "      filter: drop-shadow(0px 1px 2px rgba(0, 0, 0, 0.3));\n",
              "      fill: #FFFFFF;\n",
              "    }\n",
              "  </style>\n",
              "\n",
              "      <script>\n",
              "        const buttonEl =\n",
              "          document.querySelector('#df-b3679ed5-fb5f-4157-8f91-79d43d53b24d button.colab-df-convert');\n",
              "        buttonEl.style.display =\n",
              "          google.colab.kernel.accessAllowed ? 'block' : 'none';\n",
              "\n",
              "        async function convertToInteractive(key) {\n",
              "          const element = document.querySelector('#df-b3679ed5-fb5f-4157-8f91-79d43d53b24d');\n",
              "          const dataTable =\n",
              "            await google.colab.kernel.invokeFunction('convertToInteractive',\n",
              "                                                     [key], {});\n",
              "          if (!dataTable) return;\n",
              "\n",
              "          const docLinkHtml = 'Like what you see? Visit the ' +\n",
              "            '<a target=\"_blank\" href=https://colab.research.google.com/notebooks/data_table.ipynb>data table notebook</a>'\n",
              "            + ' to learn more about interactive tables.';\n",
              "          element.innerHTML = '';\n",
              "          dataTable['output_type'] = 'display_data';\n",
              "          await google.colab.output.renderOutput(dataTable, element);\n",
              "          const docLink = document.createElement('div');\n",
              "          docLink.innerHTML = docLinkHtml;\n",
              "          element.appendChild(docLink);\n",
              "        }\n",
              "      </script>\n",
              "    </div>\n",
              "  </div>\n",
              "  "
            ]
          },
          "metadata": {},
          "execution_count": 12
        }
      ]
    },
    {
      "cell_type": "code",
      "source": [
        "y = data['price'].values\n",
        "\n",
        "x = data.drop('price', axis = 1)\n",
        "x = x.values"
      ],
      "metadata": {
        "id": "A30tNdyu5awD"
      },
      "execution_count": 14,
      "outputs": []
    },
    {
      "cell_type": "code",
      "source": [
        "x_train, x_test, y_train, y_test = train_test_split(x, y, test_size = 0.20, random_state = 2023)"
      ],
      "metadata": {
        "id": "N05cawkf6CT3"
      },
      "execution_count": 15,
      "outputs": []
    },
    {
      "cell_type": "markdown",
      "source": [
        "# **1. Fit Model**"
      ],
      "metadata": {
        "id": "mO1IIpjy6W1x"
      }
    },
    {
      "cell_type": "code",
      "source": [
        "tree = DecisionTreeRegressor()\n",
        "tree.fit(x_train, y_train)\n",
        "y_tree = tree.predict(x_test)"
      ],
      "metadata": {
        "id": "CBJQKhLq6Vq0"
      },
      "execution_count": 16,
      "outputs": []
    },
    {
      "cell_type": "code",
      "source": [
        "y_tree"
      ],
      "metadata": {
        "colab": {
          "base_uri": "https://localhost:8080/"
        },
        "id": "cKFZQrMK7rHM",
        "outputId": "8fbf7185-8e27-4fbb-abdd-5e00eea14690"
      },
      "execution_count": 17,
      "outputs": [
        {
          "output_type": "execute_result",
          "data": {
            "text/plain": [
              "array([520000., 353000., 360000., ..., 565000., 205000., 420000.])"
            ]
          },
          "metadata": {},
          "execution_count": 17
        }
      ]
    },
    {
      "cell_type": "code",
      "source": [
        "treeBagging = BaggingRegressor(estimator=DecisionTreeRegressor(), n_estimators=100)\n",
        "\n",
        "treeBagging.fit(x_train, y_train)\n",
        "y_treeBagging = treeBagging.predict(x_test)\n"
      ],
      "metadata": {
        "id": "u3GnkArB7M1M"
      },
      "execution_count": 22,
      "outputs": []
    },
    {
      "cell_type": "code",
      "source": [
        "lr = LinearRegression()\n",
        "lr.fit(x_train, y_train)\n",
        "y_lr = lr.predict(x_test)"
      ],
      "metadata": {
        "id": "Dxz3J-ic9ReM"
      },
      "execution_count": 23,
      "outputs": []
    },
    {
      "cell_type": "code",
      "source": [
        "lrBagging = BaggingRegressor(estimator = LinearRegression(), n_estimators = 100)\n",
        "\n",
        "lrBagging.fit(x_train, y_train)\n",
        "\n",
        "y_lrBagging  = lrBagging.predict(x_test)\n"
      ],
      "metadata": {
        "id": "oTB2bNAj9q20"
      },
      "execution_count": 24,
      "outputs": []
    },
    {
      "cell_type": "markdown",
      "source": [
        "# **2. Evaluation**"
      ],
      "metadata": {
        "id": "27vJd6Uk_G8H"
      }
    },
    {
      "cell_type": "code",
      "source": [
        "mse_tree = mean_squared_error(y_true = y_test, y_pred = y_tree)\n",
        "\n",
        "mse_treeBagging = mean_squared_error(y_true = y_test, y_pred = y_treeBagging)\n",
        "\n",
        "mse_lr = mean_squared_error(y_true = y_test, y_pred = y_lr)\n",
        "\n",
        "mse_lrBagging = mean_squared_error(y_true = y_test, y_pred = y_lrBagging)"
      ],
      "metadata": {
        "id": "fPP5COKq93vy"
      },
      "execution_count": 27,
      "outputs": []
    },
    {
      "cell_type": "code",
      "source": [
        "print(mse_tree, mse_treeBagging, mse_lr, mse_lrBagging)"
      ],
      "metadata": {
        "colab": {
          "base_uri": "https://localhost:8080/"
        },
        "id": "J_qmRu81_jcp",
        "outputId": "e566b209-0654-48db-e5fe-320795fec137"
      },
      "execution_count": 28,
      "outputs": [
        {
          "output_type": "stream",
          "name": "stdout",
          "text": [
            "34663693333.48024 17081595379.81519 40789387679.373924 40778479777.893135\n"
          ]
        }
      ]
    },
    {
      "cell_type": "code",
      "source": [
        "r2_tree = r2_score(y_test, y_tree)\n",
        "r2_treeBagging = r2_score(y_test, y_treeBagging)\n",
        "r2_lr = r2_score(y_test, y_lr)\n",
        "r2_lrBagging = r2_score(y_test, y_lrBagging)"
      ],
      "metadata": {
        "id": "VLvd7iFWAoSq"
      },
      "execution_count": 30,
      "outputs": []
    },
    {
      "cell_type": "code",
      "source": [
        "print('[Tree - vanila] R-square = {:.2f} | MSE = {:.2f}'.format(r2_tree, mse_tree))\n",
        "print('[Tree - Bagging] R-square = {:.2f} | MSE = {:.2f}'.format(r2_treeBagging, mse_treeBagging))\n",
        "print('[Linear - vanila] R-square = {:.2f} | MSE = {:.2f}'.format(r2_lr, mse_lr))\n",
        "print('[Linear - Bagging] R-square = {:.2f} | MSE = {:.2f}'.format(r2_lrBagging, mse_lrBagging))"
      ],
      "metadata": {
        "colab": {
          "base_uri": "https://localhost:8080/"
        },
        "id": "gT0NWPQfBLbG",
        "outputId": "c64de011-5721-49c1-b4a9-d283a4c1e653"
      },
      "execution_count": 33,
      "outputs": [
        {
          "output_type": "stream",
          "name": "stdout",
          "text": [
            "[Tree - vanila] R-square = 0.74 | MSE = 34663693333.48\n",
            "[Tree - Bagging] R-square = 0.87 | MSE = 17081595379.82\n",
            "[Linear - vanila] R-square = 0.69 | MSE = 40789387679.37\n",
            "[Linear - Bagging] R-square = 0.69 | MSE = 40778479777.89\n"
          ]
        }
      ]
    },
    {
      "cell_type": "code",
      "source": [],
      "metadata": {
        "id": "-a9CW4YjB9i8"
      },
      "execution_count": null,
      "outputs": []
    }
  ]
}